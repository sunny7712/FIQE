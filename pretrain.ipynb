{
 "cells": [
  {
   "cell_type": "code",
   "execution_count": 1,
   "metadata": {},
   "outputs": [
    {
     "name": "stderr",
     "output_type": "stream",
     "text": [
      "/home/sunny77/miniconda3/envs/stylegan/lib/python3.12/site-packages/tqdm/auto.py:21: TqdmWarning: IProgress not found. Please update jupyter and ipywidgets. See https://ipywidgets.readthedocs.io/en/stable/user_install.html\n",
      "  from .autonotebook import tqdm as notebook_tqdm\n"
     ]
    }
   ],
   "source": [
    "import os\n",
    "from tqdm.auto import tqdm\n",
    "import torch\n",
    "from torchvision import transforms\n",
    "from PIL import Image\n",
    "import torch.nn as nn\n",
    "import torch.optim as optim\n",
    "from torch.utils.data import Dataset, DataLoader\n",
    "from model import PretrainedGenerator, ResnetEncoder"
   ]
  },
  {
   "cell_type": "code",
   "execution_count": 2,
   "metadata": {},
   "outputs": [],
   "source": [
    "class Dataset(Dataset):\n",
    "    def __init__(self, hq_path, lq_path, lq_transforms, hq_transforms):\n",
    "        super(Dataset).__init__()\n",
    "        self.hq_path = hq_path\n",
    "        self.hq = os.listdir(hq_path)\n",
    "        self.lq_path = lq_path\n",
    "        self.lq = os.listdir(lq_path)\n",
    "        self.lq_transforms = lq_transforms\n",
    "        self.hq_transforms = hq_transforms\n",
    "    \n",
    "    def __len__(self):\n",
    "        return len(self.hq)\n",
    "        \n",
    "    def __getitem__(self, idx):\n",
    "        lq_image = Image.open(os.path.join(self.lq_path, self.lq[idx])).convert('RGB')\n",
    "        hq_image = Image.open(os.path.join(self.hq_path, self.hq[idx])).convert('RGB')\n",
    "        hq_image = self.hq_transforms(hq_image)\n",
    "        lq_image = self.lq_transforms(lq_image)\n",
    "        return lq_image, hq_image                        \n",
    "\n",
    "\n",
    "hq_transform = transforms.Compose([\n",
    "    transforms.Resize((256, 256)),\n",
    "    transforms.ToTensor(),\n",
    "    transforms.Normalize(mean=[0.5, 0.5, 0.5], std=[0.5, 0.5, 0.5])\n",
    "])\n",
    "\n",
    "lq_transform = transforms.Compose([\n",
    "    transforms.ToTensor(),\n",
    "    transforms.Normalize(mean=[0.5, 0.5, 0.5], std=[0.5, 0.5, 0.5])\n",
    "])\n",
    "\n",
    "train_ds = Dataset(\"hq_train_images\", \"lq_train_images\", lq_transform, hq_transform)\n",
    "train_dl = DataLoader(train_ds, shuffle = True, batch_size = 4, num_workers = 4)"
   ]
  },
  {
   "cell_type": "code",
   "execution_count": 3,
   "metadata": {},
   "outputs": [
    {
     "data": {
      "text/plain": [
       "<torch.autograd.anomaly_mode.set_detect_anomaly at 0x7f5e615ddd90>"
      ]
     },
     "execution_count": 3,
     "metadata": {},
     "output_type": "execute_result"
    }
   ],
   "source": [
    "torch.autograd.set_detect_anomaly(True)"
   ]
  },
  {
   "cell_type": "code",
   "execution_count": null,
   "metadata": {},
   "outputs": [
    {
     "name": "stderr",
     "output_type": "stream",
     "text": [
      "/home/sunny77/python/DL/minor_project/stylegan2_pytorch/stylegan2/models.py:196: FutureWarning: You are using `torch.load` with `weights_only=False` (the current default value), which uses the default pickle module implicitly. It is possible to construct malicious pickle data which will execute arbitrary code during unpickling (See https://github.com/pytorch/pytorch/blob/main/SECURITY.md#untrusted-models for more details). In a future release, the default value for `weights_only` will be flipped to `True`. This limits the functions that could be executed during unpickling. Arbitrary objects will no longer be allowed to be loaded via this mode unless they are explicitly allowlisted by the user via `torch.serialization.add_safe_globals`. We recommend you start setting `weights_only=True` for any use case where you don't have full control of the loaded file. Please open an issue on GitHub for any issues related to this experimental feature.\n",
      "  return _deserialize(torch.load(fpath, map_location=map_location))\n",
      "Epoch 1/6:   1%|▏         | 27/1873 [14:29<16:25:51, 32.04s/it]"
     ]
    }
   ],
   "source": [
    "downscale = transforms.Resize((256, 256))\n",
    "\n",
    "def l_rep_loss(hq_image, lq_image, encoder_hq, encoder_lq, generator):\n",
    "    hq_code = encoder_hq(hq_image)\n",
    "    lq_code = encoder_lq(lq_image)\n",
    "    hq_reconstructed = downscale(generator(hq_code))\n",
    "    lq_reconstructed = downscale(generator(lq_code))\n",
    "    \n",
    "    loss_hq = nn.L1Loss()(hq_image, hq_reconstructed)\n",
    "    loss_lq = nn.L1Loss()(lq_image, lq_reconstructed)\n",
    "    return loss_hq + loss_lq\n",
    "\n",
    "# Initialize models\n",
    "encoder_hq = ResnetEncoder().cuda()\n",
    "encoder_lq = ResnetEncoder().cuda()\n",
    "generator = PretrainedGenerator(model_path=\"stylegan2_pytorch/G.pth\").cuda()\n",
    "for param in generator.parameters():\n",
    "    param.requires_grad = False\n",
    "\n",
    "# Set models to training mode\n",
    "encoder_hq.train()\n",
    "encoder_lq.train()\n",
    "generator.eval()  # Generator is pretrained and frozen\n",
    "\n",
    "# Optimizer\n",
    "optimizer = optim.Adam(list(encoder_hq.parameters()) + list(encoder_lq.parameters()), lr=1e-4)\n",
    "\n",
    "# Training loop\n",
    "num_epochs = 6\n",
    "for epoch in range(num_epochs):\n",
    "    running_loss = 0.0\n",
    "    for lq_image, hq_image in tqdm(train_dl, desc=f\"Epoch {epoch+1}/{num_epochs}\"):\n",
    "        lq_image, hq_image = lq_image.cuda(), hq_image.cuda()\n",
    "\n",
    "        # Zero the parameter gradients\n",
    "        optimizer.zero_grad()\n",
    "\n",
    "        # Compute L_rep loss\n",
    "        loss = l_rep_loss(hq_image, lq_image, encoder_hq, encoder_lq, generator)\n",
    "\n",
    "        # Backpropagation and optimization\n",
    "        loss.backward()\n",
    "        optimizer.step()\n",
    "\n",
    "        running_loss += loss.item()\n",
    "\n",
    "    print(f\"Epoch [{epoch+1}/{num_epochs}], Loss: {running_loss/len(train_dl):.4f}\")"
   ]
  },
  {
   "cell_type": "code",
   "execution_count": null,
   "metadata": {},
   "outputs": [],
   "source": [
    "torch.save(encoder_hq.state_dict(), \"encoder_hq.pt\")\n",
    "torch.save(encoder_lq.state_dict(), \"encoder_lq.pt\")"
   ]
  },
  {
   "cell_type": "code",
   "execution_count": null,
   "metadata": {},
   "outputs": [],
   "source": []
  }
 ],
 "metadata": {
  "kernelspec": {
   "display_name": "stylegan",
   "language": "python",
   "name": "python3"
  },
  "language_info": {
   "codemirror_mode": {
    "name": "ipython",
    "version": 3
   },
   "file_extension": ".py",
   "mimetype": "text/x-python",
   "name": "python",
   "nbconvert_exporter": "python",
   "pygments_lexer": "ipython3",
   "version": "3.12.7"
  }
 },
 "nbformat": 4,
 "nbformat_minor": 2
}
