{
 "cells": [
  {
   "cell_type": "code",
   "execution_count": 2,
   "metadata": {},
   "outputs": [
    {
     "name": "stderr",
     "output_type": "stream",
     "text": [
      "/home/sunny77/miniconda3/envs/stylegan/lib/python3.12/site-packages/tqdm/auto.py:21: TqdmWarning: IProgress not found. Please update jupyter and ipywidgets. See https://ipywidgets.readthedocs.io/en/stable/user_install.html\n",
      "  from .autonotebook import tqdm as notebook_tqdm\n"
     ]
    }
   ],
   "source": [
    "import torch\n",
    "from tqdm.auto import tqdm\n",
    "import torch.nn as nn\n",
    "import numpy as np\n",
    "import timm\n",
    "import os\n",
    "import cv2\n",
    "from degradation_models import DegradationModels\n",
    "import shutil"
   ]
  },
  {
   "cell_type": "code",
   "execution_count": 15,
   "metadata": {},
   "outputs": [
    {
     "name": "stderr",
     "output_type": "stream",
     "text": [
      "100%|██████████| 8/8 [04:13<00:00, 31.74s/it]\n"
     ]
    }
   ],
   "source": [
    "degrader = DegradationModels()\n",
    "save_folder = \"lq_train_images\"\n",
    "\n",
    "folders = [\"07000\", \"08000\", \"09000\", \"10000\", \"11000\", \"12000\", \"13000\", \"14000\"]\n",
    "path = os.path.join(os.getcwd(), \"Data\")\n",
    "\n",
    "for folder in tqdm(folders):\n",
    "    path = os.path.join(os.getcwd(), \"Data\", folder)\n",
    "    if folder == \"07000\":\n",
    "        imgs = os.listdir(path)\n",
    "        for i in range(int(len(imgs) / 2), len(imgs)):\n",
    "            img_path = os.path.join(path, imgs[i])\n",
    "            if img_path.endswith((\".png\", \".jpg\")):    \n",
    "                idx = np.random.randint(0, 3)\n",
    "                if idx == 0:\n",
    "                    final_path = os.path.join(save_folder, f\"{imgs[i]}_mild\")\n",
    "                    mild_degraded = degrader.apply_degradation(cv2.imread(img_path), mode = 'BicC')\n",
    "                    cv2.imwrite(f\"{final_path}.png\", mild_degraded)\n",
    "                elif idx == 1:\n",
    "                    final_path = os.path.join(save_folder, f\"{imgs[i]}_moderate\")\n",
    "                    moderate_degraded = degrader.apply_degradation(cv2.imread(img_path), mode = 'BicN')\n",
    "                    cv2.imwrite(f\"{final_path}.png\", moderate_degraded)\n",
    "                else:\n",
    "                    final_path = os.path.join(save_folder, f\"{imgs[i]}_severe\")\n",
    "                    severe_degraded = degrader.apply_degradation(cv2.imread(img_path), mode = 'BBilN')\n",
    "                    cv2.imwrite(f\"{final_path}.png\", severe_degraded)\n",
    "    else:\n",
    "        imgs = os.listdir(path)\n",
    "        for i in range(0, len(imgs)):\n",
    "            img_path = os.path.join(path, imgs[i])\n",
    "            if img_path.endswith((\".png\", \".jpg\")):    \n",
    "                idx = np.random.randint(0, 3)\n",
    "                if idx == 0:\n",
    "                    final_path = os.path.join(save_folder, f\"{imgs[i]}_mild\")\n",
    "                    mild_degraded = degrader.apply_degradation(cv2.imread(img_path), mode = 'BicC')\n",
    "                    cv2.imwrite(f\"{final_path}.png\", mild_degraded)\n",
    "                elif idx == 1:\n",
    "                    final_path = os.path.join(save_folder, f\"{imgs[i]}_moderate\")\n",
    "                    moderate_degraded = degrader.apply_degradation(cv2.imread(img_path), mode = 'BicN')\n",
    "                    cv2.imwrite(f\"{final_path}.png\", moderate_degraded)\n",
    "                else:\n",
    "                    final_path = os.path.join(save_folder, f\"{imgs[i]}_severe\")\n",
    "                    severe_degraded = degrader.apply_degradation(cv2.imread(img_path), mode = 'BBilN')\n",
    "                    cv2.imwrite(f\"{final_path}.png\", severe_degraded)\n",
    "                "
   ]
  },
  {
   "cell_type": "code",
   "execution_count": 21,
   "metadata": {},
   "outputs": [
    {
     "data": {
      "text/plain": [
       "(2415, 2599, 2495)"
      ]
     },
     "execution_count": 21,
     "metadata": {},
     "output_type": "execute_result"
    }
   ],
   "source": [
    "ls = os.listdir(\"lq_train_images\")\n",
    "cnta = 0\n",
    "cntb = 0\n",
    "cntc = 0\n",
    "for i in ls:\n",
    "    word = i.split(\"_\")[1].split(\".\")[0]\n",
    "    if word == \"mild\":\n",
    "        cnta += 1\n",
    "    elif word == \"moderate\":\n",
    "        cntb += 1\n",
    "    else:\n",
    "        cntc += 1\n",
    "cnta, cntb, cntc"
   ]
  },
  {
   "cell_type": "code",
   "execution_count": 23,
   "metadata": {},
   "outputs": [
    {
     "name": "stderr",
     "output_type": "stream",
     "text": [
      "100%|██████████| 1/1 [00:41<00:00, 41.34s/it]\n"
     ]
    }
   ],
   "source": [
    "degrader = DegradationModels()\n",
    "save_folder = \"lq_test_images\"\n",
    "\n",
    "folders = [\"69000\"]\n",
    "path = os.path.join(os.getcwd(), \"Data\")\n",
    "\n",
    "for folder in tqdm(folders):\n",
    "    path = os.path.join(os.getcwd(), \"Data\", folder)\n",
    "    if folder == \"07000\":\n",
    "        imgs = os.listdir(path)\n",
    "        for i in range(int(len(imgs) / 2), len(imgs)):\n",
    "            img_path = os.path.join(path, imgs[i])\n",
    "            if img_path.endswith((\".png\", \".jpg\")):    \n",
    "                idx = np.random.randint(0, 3)\n",
    "                if idx == 0:\n",
    "                    final_path = os.path.join(save_folder, f\"{imgs[i]}_mild\")\n",
    "                    mild_degraded = degrader.apply_degradation(cv2.imread(img_path), mode = 'BicC')\n",
    "                    cv2.imwrite(f\"{final_path}.png\", mild_degraded)\n",
    "                elif idx == 1:\n",
    "                    final_path = os.path.join(save_folder, f\"{imgs[i]}_moderate\")\n",
    "                    moderate_degraded = degrader.apply_degradation(cv2.imread(img_path), mode = 'BicN')\n",
    "                    cv2.imwrite(f\"{final_path}.png\", moderate_degraded)\n",
    "                else:\n",
    "                    final_path = os.path.join(save_folder, f\"{imgs[i]}_severe\")\n",
    "                    severe_degraded = degrader.apply_degradation(cv2.imread(img_path), mode = 'BBilN')\n",
    "                    cv2.imwrite(f\"{final_path}.png\", severe_degraded)\n",
    "    else:\n",
    "        imgs = os.listdir(path)\n",
    "        for i in range(0, len(imgs)):\n",
    "            img_path = os.path.join(path, imgs[i])\n",
    "            if img_path.endswith((\".png\", \".jpg\")):    \n",
    "                idx = np.random.randint(0, 3)\n",
    "                if idx == 0:\n",
    "                    final_path = os.path.join(save_folder, f\"{imgs[i]}_mild\")\n",
    "                    mild_degraded = degrader.apply_degradation(cv2.imread(img_path), mode = 'BicC')\n",
    "                    cv2.imwrite(f\"{final_path}.png\", mild_degraded)\n",
    "                elif idx == 1:\n",
    "                    final_path = os.path.join(save_folder, f\"{imgs[i]}_moderate\")\n",
    "                    moderate_degraded = degrader.apply_degradation(cv2.imread(img_path), mode = 'BicN')\n",
    "                    cv2.imwrite(f\"{final_path}.png\", moderate_degraded)\n",
    "                else:\n",
    "                    final_path = os.path.join(save_folder, f\"{imgs[i]}_severe\")\n",
    "                    severe_degraded = degrader.apply_degradation(cv2.imread(img_path), mode = 'BBilN')\n",
    "                    cv2.imwrite(f\"{final_path}.png\", severe_degraded)\n",
    "                "
   ]
  },
  {
   "cell_type": "code",
   "execution_count": 24,
   "metadata": {},
   "outputs": [
    {
     "data": {
      "text/plain": [
       "(332, 344, 324)"
      ]
     },
     "execution_count": 24,
     "metadata": {},
     "output_type": "execute_result"
    }
   ],
   "source": [
    "ls = os.listdir(\"lq_test_images\")\n",
    "cnta = 0\n",
    "cntb = 0\n",
    "cntc = 0\n",
    "for i in ls:\n",
    "    word = i.split(\"_\")[1].split(\".\")[0]\n",
    "    if word == \"mild\":\n",
    "        cnta += 1\n",
    "    elif word == \"moderate\":\n",
    "        cntb += 1\n",
    "    else:\n",
    "        cntc += 1\n",
    "cnta, cntb, cntc"
   ]
  },
  {
   "cell_type": "code",
   "execution_count": 6,
   "metadata": {},
   "outputs": [
    {
     "name": "stdout",
     "output_type": "stream",
     "text": [
      "Contents moved successfully.\n"
     ]
    }
   ],
   "source": [
    "def move_contents(paths, destination):\n",
    "    # Ensure the destination directory exists\n",
    "    # os.makedirs(destination, exist_ok=True)\n",
    "\n",
    "    for path in paths:\n",
    "        # Check if the path exists and is a directory\n",
    "        if path == 'Data/07000':\n",
    "            if os.path.isdir(path):\n",
    "                items = os.listdir(path)\n",
    "                for idx in range(0, int(len(items) / 2)):\n",
    "                    item = items[idx]\n",
    "                    item_path = os.path.join(path, item)\n",
    "                    dest_path = os.path.join(destination, item)\n",
    "                    \n",
    "                    # Move the item to the destination directory\n",
    "                    if os.path.exists(dest_path):\n",
    "                        print(f\"Skipping {item_path}, as it already exists in the destination.\")\n",
    "                    else:\n",
    "                        shutil.move(item_path, destination)\n",
    "            else:\n",
    "                print(f\"{path} is not a valid directory.\")\n",
    "        else:\n",
    "            if os.path.isdir(path):\n",
    "                for item in os.listdir(path):\n",
    "                    item_path = os.path.join(path, item)\n",
    "                    dest_path = os.path.join(destination, item)\n",
    "                    \n",
    "                    # Move the item to the destination directory\n",
    "                    if os.path.exists(dest_path):\n",
    "                        print(f\"Skipping {item_path}, as it already exists in the destination.\")\n",
    "                    else:\n",
    "                        shutil.move(item_path, destination)\n",
    "            else:\n",
    "                print(f\"{path} is not a valid directory.\")\n",
    "    print(\"Contents moved successfully.\")\n",
    "    \n",
    "    \n",
    "paths = ['Data/00000', 'Data/01000', 'Data/02000', 'Data/03000', 'Data/04000', 'Data/05000', 'Data/06000', 'Data/07000']\n",
    "destination = 'hq_train_images'\n",
    "move_contents(paths, destination)\n"
   ]
  },
  {
   "cell_type": "code",
   "execution_count": 15,
   "metadata": {},
   "outputs": [
    {
     "name": "stderr",
     "output_type": "stream",
     "text": [
      "100%|██████████| 7490/7490 [03:25<00:00, 36.41it/s]\n",
      "100%|██████████| 2000/2000 [00:27<00:00, 73.89it/s] \n"
     ]
    }
   ],
   "source": [
    "hq_train = os.listdir(\"hq_train_images\")\n",
    "hq_test = os.listdir(\"hq_test_images\")\n",
    "new_hq_train = \"new_hq_train\"\n",
    "new_hq_test = \"new_hq_test\"\n",
    "\n",
    "for img in tqdm(hq_train):\n",
    "    path = os.path.join(os.getcwd(), \"hq_train_images\", img)\n",
    "    if path.endswith((\".png\", \".jpg\")):\n",
    "        image = cv2.imread(path)\n",
    "        image = cv2.resize(image, (256, 256))\n",
    "        cv2.imwrite(f\"{new_hq_train}/{img}.png\", image)\n",
    "        \n",
    "\n",
    "for img in tqdm(hq_test):\n",
    "    path = os.path.join(os.getcwd(), \"hq_test_images\", img)\n",
    "    if path.endswith((\".png\", \".jpg\")):\n",
    "        image = cv2.imread(path)\n",
    "        image = cv2.resize(image, (256, 256))\n",
    "        cv2.imwrite(f\"{new_hq_test}/{img}.png\", image)\n",
    "    \n",
    "    "
   ]
  },
  {
   "cell_type": "code",
   "execution_count": null,
   "metadata": {},
   "outputs": [],
   "source": []
  }
 ],
 "metadata": {
  "kernelspec": {
   "display_name": "stylegan",
   "language": "python",
   "name": "python3"
  },
  "language_info": {
   "codemirror_mode": {
    "name": "ipython",
    "version": 3
   },
   "file_extension": ".py",
   "mimetype": "text/x-python",
   "name": "python",
   "nbconvert_exporter": "python",
   "pygments_lexer": "ipython3",
   "version": "3.12.7"
  }
 },
 "nbformat": 4,
 "nbformat_minor": 2
}
